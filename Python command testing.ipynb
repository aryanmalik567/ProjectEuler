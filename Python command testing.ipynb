{
 "cells": [
  {
   "cell_type": "code",
   "execution_count": 1,
   "metadata": {},
   "outputs": [
    {
     "name": "stdout",
     "output_type": "stream",
     "text": [
      "1\n"
     ]
    }
   ],
   "source": [
    "num = \"0.14285714285714285\"\n",
    "print(num[2])"
   ]
  },
  {
   "cell_type": "code",
   "execution_count": 9,
   "metadata": {},
   "outputs": [],
   "source": [
    "for i in range(1, (9-7) // 2):\n",
    "    print(str(i))\n",
    "    \n",
    "print()"
   ]
  },
  {
   "cell_type": "code",
   "execution_count": 2,
   "metadata": {},
   "outputs": [
    {
     "name": "stdout",
     "output_type": "stream",
     "text": [
      "0.029411764705882353\n"
     ]
    }
   ],
   "source": [
    "def fraction_to_decimal(numerator, denominator):\n",
    "    if denominator == 0:\n",
    "        return None\n",
    "    elif numerator == 0:\n",
    "        return 0\n",
    "    elif numerator % denominator == 0:\n",
    "        return numerator/denominator\n",
    "    else:\n",
    "        return str(numerator/denominator)\n",
    "    \n",
    "print(fraction_to_decimal(1, 34))"
   ]
  },
  {
   "cell_type": "code",
   "execution_count": 3,
   "metadata": {},
   "outputs": [
    {
     "name": "stdout",
     "output_type": "stream",
     "text": [
      "1\n"
     ]
    }
   ],
   "source": [
    "print(1 % 7)"
   ]
  },
  {
   "cell_type": "code",
   "execution_count": 8,
   "metadata": {},
   "outputs": [
    {
     "name": "stdout",
     "output_type": "stream",
     "text": [
      "001017293997965412\n",
      "[[17, '0'], [717, '0'], [289, '1'], [924, '0'], [393, '1'], [981, '7'], [963, '2'], [783, '9'], [949, '3'], [643, '9'], [532, '9'], [405, '7'], [118, '9'], [197, '6'], [4, '5'], [68, '4'], [902, '1'], [173, '2']]\n"
     ]
    }
   ],
   "source": [
    "denominator = 983\n",
    "remainder = 1\n",
    "zeroes = 10\n",
    "remainders = []\n",
    "n = 0\n",
    "dec = str(1 / denominator)[2:]\n",
    "if len(dec) == 18:\n",
    "    while n < len(dec):\n",
    "        if denominator < remainder:\n",
    "            remainder = remainder % denominator\n",
    "\n",
    "            if [remainder, dec[n]] not in remainders:\n",
    "                remainders.append([remainder, dec[n]])\n",
    "            else:\n",
    "                pos = remainders.index([remainder, dec[n]])\n",
    "                differences.append([(n - pos), denominator])\n",
    "                break\n",
    "\n",
    "            n += 1\n",
    "        elif denominator < remainder * zeroes:\n",
    "            remainder = (remainder * zeroes) % denominator\n",
    "\n",
    "            if [remainder, dec[n]] not in remainders:\n",
    "                remainders.append([remainder, dec[n]])\n",
    "            else:\n",
    "                pos = remainders.index([remainder, dec[n]])\n",
    "                differences.append([(n - pos), denominator])\n",
    "                break\n",
    "\n",
    "            n += 1\n",
    "            zeroes = 10\n",
    "        else:\n",
    "            zeroes *= 10\n",
    "\n",
    "print(dec)\n",
    "print(remainders)\n",
    "    "
   ]
  },
  {
   "cell_type": "code",
   "execution_count": 14,
   "metadata": {},
   "outputs": [
    {
     "name": "stdout",
     "output_type": "stream",
     "text": [
      "20\n"
     ]
    }
   ],
   "source": [
    "print(len(str((1 / 17))))"
   ]
  },
  {
   "cell_type": "code",
   "execution_count": 12,
   "metadata": {},
   "outputs": [
    {
     "name": "stdout",
     "output_type": "stream",
     "text": [
      "3 1.0\n"
     ]
    }
   ],
   "source": [
    "temp = 10 % 7\n",
    "digit = (10 - temp) / 7\n",
    "\n",
    "print(temp, digit)"
   ]
  }
 ],
 "metadata": {
  "kernelspec": {
   "display_name": "Python 3",
   "language": "python",
   "name": "python3"
  },
  "language_info": {
   "codemirror_mode": {
    "name": "ipython",
    "version": 3
   },
   "file_extension": ".py",
   "mimetype": "text/x-python",
   "name": "python",
   "nbconvert_exporter": "python",
   "pygments_lexer": "ipython3",
   "version": "3.8.3"
  }
 },
 "nbformat": 4,
 "nbformat_minor": 4
}
